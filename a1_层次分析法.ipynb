{
 "cells": [
  {
   "cell_type": "markdown",
   "source": [
    "# 一致性检验"
   ],
   "metadata": {
    "collapsed": false
   }
  },
  {
   "cell_type": "code",
   "execution_count": 1,
   "outputs": [
    {
     "name": "stdout",
     "output_type": "stream",
     "text": [
      "一致性指标CI= (0.03761001273071566+0j)\n",
      "一致性比例CR= (0.04225844127046704+0j)\n",
      "因为CR<0.10，所以该判断矩阵A的一致性可以接受!\n"
     ]
    }
   ],
   "source": [
    "import numpy as np\n",
    "\n",
    "# 定义矩阵A\n",
    "# A = np.array([[1, 2, 3, 5], [1/2, 1, 1/2, 2], [1/3, 2, 1, 1/2], [1/5, 1/2, 2, 1]])\n",
    "A = np.array([\n",
    "    [1, 2, 3, 5],\n",
    "    [1 / 2, 1, 1 / 2, 2],\n",
    "    [1 / 3, 2, 1, 2],\n",
    "    [1 / 5, 1 / 2, 1 / 2, 1]\n",
    "])\n",
    "\n",
    "n = A.shape[0]  # 获取A的行\n",
    "\n",
    "# 求出最大特征值以及对应的特征向量\n",
    "eig_val, eig_vec = np.linalg.eig(A)  # eig_val是特征值， eig_vec是特征向量\n",
    "Max_eig = max(eig_val)  # 求特征值的最大值\n",
    "\n",
    "CI = (Max_eig - n) / (n - 1)\n",
    "RI = [0, 0.0001, 0.52, 0.89, 1.12, 1.26, 1.36, 1.41, 1.46, 1.49, 1.52, 1.54, 1.56, 1.58, 1.59]\n",
    "# 注意哦，这里的RI最多支持 n = 15\n",
    "# 这里n=2时，一定是一致矩阵，所以CI = 0，我们为了避免分母为0，将这里的第二个元素改为了很接近0的正数\n",
    "\n",
    "CR = CI / RI[n - 1]\n",
    "\n",
    "print('一致性指标CI=', CI)\n",
    "print('一致性比例CR=', CR)\n",
    "\n",
    "if CR < 0.10:\n",
    "    print('因为CR<0.10，所以该判断矩阵A的一致性可以接受!')\n",
    "else:\n",
    "    print('注意：CR >= 0.10，因此该判断矩阵A需要进行修改!')\n"
   ],
   "metadata": {
    "collapsed": false,
    "ExecuteTime": {
     "end_time": "2024-07-27T07:53:43.722007200Z",
     "start_time": "2024-07-27T07:53:43.638916200Z"
    }
   }
  },
  {
   "cell_type": "markdown",
   "source": [
    "# 算术平均法求权重"
   ],
   "metadata": {
    "collapsed": false
   }
  },
  {
   "cell_type": "code",
   "execution_count": 6,
   "metadata": {},
   "outputs": [
    {
     "name": "stdout",
     "output_type": "stream",
     "text": [
      "[0.48885991 0.18192996 0.2318927  0.09731744]\n"
     ]
    }
   ],
   "source": [
    "import numpy as np\n",
    "\n",
    "# 定义判断矩阵A\n",
    "A = np.array([\n",
    "    [1, 2, 3, 5],\n",
    "    [1 / 2, 1, 1 / 2, 2],\n",
    "    [1 / 3, 2, 1, 2],\n",
    "    [1 / 5, 1 / 2, 1 / 2, 1]\n",
    "])\n",
    "\n",
    "# 计算每列的和\n",
    "ASum = np.sum(A, axis=0)\n",
    "\n",
    "# 获取A的行和列\n",
    "n, _ = A.shape\n",
    "\n",
    "# 归一化\n",
    "Stand_A = A / ASum\n",
    "\n",
    "# 各列相加到同一行\n",
    "ASumr = np.sum(Stand_A, axis=1)\n",
    "\n",
    "# 计算权重向量\n",
    "weights = ASumr / n\n",
    "\n",
    "print(weights)\n"
   ]
  },
  {
   "cell_type": "markdown",
   "source": [
    "# 几何平均法求权重"
   ],
   "metadata": {
    "collapsed": false
   }
  },
  {
   "cell_type": "code",
   "execution_count": 8,
   "metadata": {},
   "outputs": [
    {
     "name": "stdout",
     "output_type": "stream",
     "text": [
      "[0.49492567 0.17782883 0.22724501 0.1000005 ]\n"
     ]
    }
   ],
   "source": [
    "import numpy as np\n",
    "\n",
    "# 定义判断矩阵A\n",
    "A = np.array([\n",
    "    [1, 2, 3, 5],\n",
    "    [1 / 2, 1, 1 / 2, 2],\n",
    "    [1 / 3, 2, 1, 2],\n",
    "    [1 / 5, 1 / 2, 1 / 2, 1]\n",
    "])\n",
    "\n",
    "# 获取A的行和列\n",
    "n, _ = A.shape\n",
    "\n",
    "# 将A中每一行元素相乘得到一列向量\n",
    "prod_A = np.prod(A, axis=1)\n",
    "\n",
    "# 将新的向量的每个分量开n次方等价求1/n次方\n",
    "prod_n_A = np.power(prod_A, 1 / n)\n",
    "\n",
    "# 归一化处理\n",
    "re_prod_A = prod_n_A / np.sum(prod_n_A)\n",
    "\n",
    "# 展示权重结果\n",
    "print(re_prod_A)\n"
   ]
  },
  {
   "cell_type": "markdown",
   "source": [
    "# 特征值法求权重"
   ],
   "metadata": {
    "collapsed": false
   }
  },
  {
   "cell_type": "code",
   "execution_count": 9,
   "metadata": {},
   "outputs": [
    {
     "name": "stdout",
     "output_type": "stream",
     "text": [
      "[0.4933895 +0.j 0.17884562+0.j 0.230339  +0.j 0.09742588+0.j]\n"
     ]
    }
   ],
   "source": [
    "import numpy as np\n",
    "\n",
    "# 定义判断矩阵A\n",
    "A = np.array([\n",
    "    [1, 2, 3, 5],\n",
    "    [1 / 2, 1, 1 / 2, 2],\n",
    "    [1 / 3, 2, 1, 2],\n",
    "    [1 / 5, 1 / 2, 1 / 2, 1]\n",
    "])\n",
    "\n",
    "# 获取A的行和列\n",
    "n, _ = A.shape\n",
    "\n",
    "# 求出特征值和特征向量\n",
    "eig_values, eig_vectors = np.linalg.eig(A)\n",
    "\n",
    "# 找出最大特征值的索引\n",
    "max_index = np.argmax(eig_values)\n",
    "\n",
    "# 找出对应的特征向量\n",
    "max_vector = eig_vectors[:, max_index]\n",
    "\n",
    "# 对特征向量进行归一化处理,得到权重\n",
    "weights = max_vector / np.sum(max_vector)\n",
    "\n",
    "# 输出权重\n",
    "print(weights)"
   ]
  }
 ],
 "metadata": {
  "kernelspec": {
   "display_name": "Python 3",
   "language": "python",
   "name": "python3"
  },
  "language_info": {
   "codemirror_mode": {
    "name": "ipython",
    "version": 3
   },
   "file_extension": ".py",
   "mimetype": "text/x-python",
   "name": "python",
   "nbconvert_exporter": "python",
   "pygments_lexer": "ipython3",
   "version": "3.11.6"
  }
 },
 "nbformat": 4,
 "nbformat_minor": 2
}
