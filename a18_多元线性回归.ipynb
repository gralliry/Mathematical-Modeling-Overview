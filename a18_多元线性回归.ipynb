{
 "cells": [
  {
   "cell_type": "markdown",
   "source": [
    "# 多元线性回归"
   ],
   "metadata": {
    "collapsed": false
   }
  },
  {
   "cell_type": "code",
   "execution_count": 2,
   "outputs": [
    {
     "name": "stdout",
     "output_type": "stream",
     "text": [
      "                            OLS Regression Results                            \n",
      "==============================================================================\n",
      "Dep. Variable:                 Weight   R-squared:                       0.980\n",
      "Model:                            OLS   Adj. R-squared:                  0.973\n",
      "Method:                 Least Squares   F-statistic:                     147.0\n",
      "Date:                Fri, 02 Aug 2024   Prob (F-statistic):            0.00121\n",
      "Time:                        20:14:28   Log-Likelihood:                -8.8276\n",
      "No. Observations:                   5   AIC:                             21.66\n",
      "Df Residuals:                       3   BIC:                             20.87\n",
      "Df Model:                           1                                         \n",
      "Covariance Type:            nonrobust                                         \n",
      "==============================================================================\n",
      "                 coef    std err          t      P>|t|      [0.025      0.975]\n",
      "------------------------------------------------------------------------------\n",
      "const         -0.0200      0.004     -4.598      0.019      -0.034      -0.006\n",
      "Height         0.1602      0.041      3.889      0.030       0.029       0.291\n",
      "Age            1.0796      0.197      5.483      0.012       0.453       1.706\n",
      "==============================================================================\n",
      "Omnibus:                          nan   Durbin-Watson:                   2.600\n",
      "Prob(Omnibus):                    nan   Jarque-Bera (JB):                0.352\n",
      "Skew:                           0.000   Prob(JB):                        0.839\n",
      "Kurtosis:                       1.700   Cond. No.                     6.08e+18\n",
      "==============================================================================\n",
      "\n",
      "Notes:\n",
      "[1] Standard Errors assume that the covariance matrix of the errors is correctly specified.\n",
      "[2] The smallest eigenvalue is 4.1e-33. This might indicate that there are\n",
      "strong multicollinearity problems or that the design matrix is singular.\n"
     ]
    },
    {
     "name": "stderr",
     "output_type": "stream",
     "text": [
      "D:\\Code\\Python\\MCM\\venv\\lib\\site-packages\\statsmodels\\stats\\stattools.py:74: ValueWarning: omni_normtest is not valid with less than 8 observations; 5 samples were given.\n",
      "  warn(\"omni_normtest is not valid with less than 8 observations; %i \"\n"
     ]
    }
   ],
   "source": [
    "import pandas as pd\n",
    "import statsmodels.api as sm\n",
    "\n",
    "# 示例数据：多元自变量（身高、年龄）和因变量（体重）\n",
    "data = {\n",
    "    'Height': [150, 160, 170, 180, 190],\n",
    "    'Age': [25, 30, 35, 40, 45],\n",
    "    'Weight': [50, 60, 65, 70, 80]\n",
    "}\n",
    "\n",
    "df = pd.DataFrame(data)\n",
    "\n",
    "# 自变量和因变量\n",
    "X = df[['Height', 'Age']]\n",
    "y = df['Weight']\n",
    "\n",
    "# 添加常数列以计算截距项\n",
    "X = sm.add_constant(X)\n",
    "\n",
    "# 创建并训练多元回归模型\n",
    "model = sm.OLS(y, X).fit()\n",
    "\n",
    "# 打印回归结果\n",
    "print(model.summary())\n"
   ],
   "metadata": {
    "collapsed": false,
    "ExecuteTime": {
     "end_time": "2024-08-02T12:14:28.687539300Z",
     "start_time": "2024-08-02T12:14:27.703209200Z"
    }
   }
  },
  {
   "cell_type": "markdown",
   "source": [
    "1. 回归系数（coef）：\n",
    "    model.params 显示每个自变量和截距项的回归系数。\n",
    "2. 标准误差（std err）：\n",
    "    每个系数的标准误差，用于判断系数估计的精确度。\n",
    "3. t值（t）和p值（P>|t|）：\n",
    "    用于检验每个自变量的系数是否显著不为零。通常，如果p值小于0.05，说明该系数在统计上显著。\n",
    "4. R²（R-squared）：\n",
    "    解释变量对因变量的变异量的比例。R² 越高，模型对数据的解释能力越强。\n",
    "5. F统计量（F-statistic）和p值（Prob (F-statistic)）：\n",
    "    用于检验回归模型中所有自变量的回归系数是否同时为零。如果p值小于显著性水平（如0.05），则说明模型中至少有一个自变量对因变量有显著影响。"
   ],
   "metadata": {
    "collapsed": false
   }
  }
 ],
 "metadata": {
  "kernelspec": {
   "display_name": "Python 3",
   "language": "python",
   "name": "python3"
  },
  "language_info": {
   "codemirror_mode": {
    "name": "ipython",
    "version": 2
   },
   "file_extension": ".py",
   "mimetype": "text/x-python",
   "name": "python",
   "nbconvert_exporter": "python",
   "pygments_lexer": "ipython2",
   "version": "2.7.6"
  }
 },
 "nbformat": 4,
 "nbformat_minor": 0
}
