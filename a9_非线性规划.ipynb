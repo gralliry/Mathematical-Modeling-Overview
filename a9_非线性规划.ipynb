{
 "cells": [
  {
   "cell_type": "markdown",
   "source": [
    "# 非线性规划\n",
    "\n",
    "约束条件是非凸的，所以不能使用cvxpy库了"
   ],
   "metadata": {
    "collapsed": false
   }
  },
  {
   "cell_type": "code",
   "execution_count": null,
   "outputs": [],
   "source": [
    "from scipy.optimize import minimize\n",
    "\n",
    "\n",
    "# 示例约束非线性优化问题\n",
    "def objective(x):\n",
    "    return x[0] ** 2 + x[1] ** 2\n",
    "\n",
    "\n",
    "def constraint1(x):\n",
    "    return x[0] + x[1] - 1\n",
    "\n",
    "\n",
    "def constraint2(x):\n",
    "    # 这里可以返回一个数组，数组数越多，更能求解\n",
    "    return x[0] ** 2 + x[1] ** 2 - 1\n",
    "\n",
    "\n",
    "# 初始点和约束条件\n",
    "x0 = [0, 1]\n",
    "# eq   形式为 h(x) = 0\n",
    "# ineq 形式为 h(x) >= 0\n",
    "constraints = [\n",
    "    {'type': 'eq', 'fun': constraint1},\n",
    "    {'type': 'eq', 'fun': constraint2}\n",
    "]\n",
    "\n",
    "# 求解约束非线性优化问题\n",
    "result = minimize(objective, x0, constraints=constraints, method='SLSQP')\n",
    "print(f\"Minimum value: {result.fun}\")\n",
    "print(f\"x: {result.x}\")"
   ],
   "metadata": {
    "collapsed": false
   }
  },
  {
   "cell_type": "code",
   "execution_count": 16,
   "outputs": [
    {
     "name": "stdout",
     "output_type": "stream",
     "text": [
      "最优解:\n",
      "x: [[-1.9079532404e-11], [1.0]]\n",
      "目标函数值: 1.0\n"
     ]
    }
   ],
   "source": [
    "from gekko import GEKKO\n",
    "\n",
    "# 初始化 gekko，不使用远程服务器\n",
    "m = GEKKO(remote=False)\n",
    "# m.options.SOLVER = 0 使用模型预测控制求解器，适用于动态优化和非线性预测控制问题。\n",
    "# m.options.SOLVER = 1 使用 APOPT 求解器，默认选项，适用于大多数问题。整数\n",
    "# m.options.SOLVER = 2 使用 BPOPT 求解器，适用于大型混合整数优化问题。\n",
    "# m.options.SOLVER = 3 使用 IPOPT 求解器，适用于大型非线性问题，需要连接到互联网以下载和使用。\n",
    "\n",
    "# 先清除之前的约束条件，每次solve()之后会清空约束条件，可以定义回调函数在每次solve()之后会执行\n",
    "# m.clear_eqs()\n",
    "\n",
    "m.options.MAX_ITER = 1000  # 设置最大迭代次数为 1000\n",
    "m.options.EV_TYPE = 2  # 设置容许误差类型为 2\n",
    "\n",
    "# 定义变量\n",
    "x = [\n",
    "    m.Var(value=1),  # 变量 x1，初始值为 1，下界为 0，上界为 5\n",
    "    m.Var(value=5),  # 变量 x2，初始值为 5，下界为 0，上界为 5\n",
    "]\n",
    "\n",
    "# 定义目标函数\n",
    "m.Minimize(x[0] ** 2 + x[1] ** 2)  # 最小化 x1^2 + x2^2\n",
    "\n",
    "# 定义约束条件\n",
    "m.Equations([\n",
    "    x[0] ** 2 + x[1] ** 2 == 1,\n",
    "    x[0] + x[1] == 1,\n",
    "])\n",
    "\n",
    "# 求解优化问题\n",
    "m.solve(disp=False)\n",
    "\n",
    "# 打印结果\n",
    "print('最优解:')\n",
    "print('x:', x)\n",
    "print('目标函数值:', m.options.objfcnval)"
   ],
   "metadata": {
    "collapsed": false,
    "ExecuteTime": {
     "end_time": "2024-07-28T18:13:07.538306800Z",
     "start_time": "2024-07-28T18:13:07.473735600Z"
    }
   }
  },
  {
   "cell_type": "markdown",
   "source": [
    "# 选址问题"
   ],
   "metadata": {
    "collapsed": false
   }
  },
  {
   "cell_type": "code",
   "execution_count": 1,
   "outputs": [
    {
     "name": "stdout",
     "output_type": "stream",
     "text": [
      "最优解:\n",
      "x: [[[3.0000000092], [5.0000000096], [0.0], [7.0000000086], [0.0], [0.9999999798]], [[0.0], [0.0], [4.0000000067], [0.0], [6.0000000089], [10.00000002]]]\n",
      "目标函数值: 135.2815419\n"
     ]
    }
   ],
   "source": [
    "from gekko import Gekko\n",
    "\n",
    "m = Gekko(remote=False)\n",
    "\n",
    "A = [\n",
    "    [5, 1],\n",
    "    [2, 7],\n",
    "]\n",
    "P = [\n",
    "    [1.25, 1.25],\n",
    "    [8.75, 0.75],\n",
    "    [0.50, 4.75],\n",
    "    [5.75, 5.00],\n",
    "    [3.00, 6.50],\n",
    "    [7.25, 7.25],\n",
    "]\n",
    "V = [3, 5, 4, 7, 6, 11]\n",
    "\n",
    "# 料数\n",
    "X = [[m.Var(0, lb=0) for y in range(6)] for x in range(2)]\n",
    "\n",
    "\n",
    "def distance(x, y):\n",
    "    return ((x[0] - y[0]) ** 2 + (x[1] - y[1]) ** 2) ** 0.5\n",
    "\n",
    "\n",
    "# 两个临时矿场到工地的距离，也是最终结果的系数\n",
    "D = [[distance(x, y) for y in P] for x in A]\n",
    "\n",
    "m.Equations([\n",
    "    sum(X[0]) <= 20,\n",
    "    sum(X[1]) <= 20,\n",
    "    X[0][0] + X[1][0] == 3,\n",
    "    X[0][1] + X[1][1] == 5,\n",
    "    X[0][2] + X[1][2] == 4,\n",
    "    X[0][3] + X[1][3] == 7,\n",
    "    X[0][4] + X[1][4] == 6,\n",
    "    X[0][5] + X[1][5] == 11,\n",
    "])\n",
    "\n",
    "m.Minimize(sum([X[i][j] * D[i][j] for i in range(2) for j in range(6)]))\n",
    "\n",
    "# 求解优化问题\n",
    "m.solve(disp=False)\n",
    "\n",
    "# 打印结果\n",
    "print('最优解:')\n",
    "print('x:', X)\n",
    "print('目标函数值:', m.options.objfcnval)"
   ],
   "metadata": {
    "collapsed": false,
    "ExecuteTime": {
     "end_time": "2024-07-28T22:16:59.476461500Z",
     "start_time": "2024-07-28T22:16:59.345203200Z"
    }
   }
  }
 ],
 "metadata": {
  "kernelspec": {
   "display_name": "Python 3",
   "language": "python",
   "name": "python3"
  },
  "language_info": {
   "codemirror_mode": {
    "name": "ipython",
    "version": 2
   },
   "file_extension": ".py",
   "mimetype": "text/x-python",
   "name": "python",
   "nbconvert_exporter": "python",
   "pygments_lexer": "ipython2",
   "version": "2.7.6"
  }
 },
 "nbformat": 4,
 "nbformat_minor": 0
}
