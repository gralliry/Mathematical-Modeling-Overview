{
 "cells": [
  {
   "cell_type": "markdown",
   "source": [
    "# 单目标线性规划"
   ],
   "metadata": {
    "collapsed": false
   }
  },
  {
   "cell_type": "markdown",
   "source": [
    "决策变量，目标函数，约束条件\n",
    "一直求最小值，如果要求最大值则乘符号变成最小值\n",
    "\n",
    "- min 4_x1 + 3_x2 + 2_x3\n",
    "- x1 + 2x2 + 3x3 >= 6\n",
    "- 2x1 + x2 + x3 <= 8\n",
    "- x1 >= 0, x2 >= 0, x3 >= 0"
   ],
   "metadata": {
    "collapsed": false
   }
  },
  {
   "cell_type": "code",
   "execution_count": 2,
   "outputs": [
    {
     "name": "stdout",
     "output_type": "stream",
     "text": [
      "Optimal value: 4.0\n",
      "Optimal solution: [0. 0. 2.]\n"
     ]
    }
   ],
   "source": [
    "# 一直求最小值，如果要求最大值则乘符号变成最小值\n",
    "from scipy.optimize import linprog\n",
    "\n",
    "# 不等式约束的系数矩阵\n",
    "epsilon = 1e-9  # 一个非常小的正数\n",
    "\n",
    "# 目标函数的系数\n",
    "c = [4, 3, 2]\n",
    "\n",
    "# 不等式约束的系数矩阵\n",
    "A_ub = [\n",
    "    [-1, -2, -3],  # 对应于 x1 + 2x2 + 3x3 >= 6 转化为 -x1 - 2x2 - 3x3 <= -6\n",
    "    [2, 1, 1]  # 对应于 2x1 + x2 + x3 <= 8\n",
    "]\n",
    "# 不等式约束的右边\n",
    "b_ub = [-6, 8]\n",
    "\n",
    "# 等式约束的系数矩阵\n",
    "A_eq = [\n",
    "\n",
    "]\n",
    "# 等式约束的右边\n",
    "b_eq = []\n",
    "\n",
    "# 边界条件\n",
    "bounds = [(0, None), (0, None), (0, None)]  # x1 >= 0, x2 >= 0, x3 >= 0\n",
    "\n",
    "# 求解线性规划问题\n",
    "result = linprog(c, A_ub=A_ub, b_ub=b_ub, A_eq=None, b_eq=None, bounds=bounds, method='highs')\n",
    "\n",
    "# 打印结果\n",
    "if result.success:\n",
    "    print(f\"Optimal value: {result.fun}\")\n",
    "    print(f\"Optimal solution: {result.x}\")\n",
    "else:\n",
    "    print(\"No solution found.\")"
   ],
   "metadata": {
    "collapsed": false,
    "ExecuteTime": {
     "end_time": "2024-07-28T14:31:27.277788100Z",
     "start_time": "2024-07-28T14:31:27.251444800Z"
    }
   }
  },
  {
   "cell_type": "code",
   "execution_count": 1,
   "outputs": [
    {
     "name": "stdout",
     "output_type": "stream",
     "text": [
      "最优解为： [0. 0. 2.]\n",
      "最优值为： 4.0\n"
     ]
    }
   ],
   "source": [
    "import cvxpy as cp\n",
    "\n",
    "x = cp.Variable((3,))\n",
    "\n",
    "obj = cp.Minimize(4 * x[0] + 3 * x[1] + 2 * x[2])\n",
    "\n",
    "con = [\n",
    "    x[0] + 2 * x[1] + 3 * x[2] >= 6,\n",
    "    2 * x[0] + x[1] + x[2] <= 8,\n",
    "    x[0] >= 0,\n",
    "    x[1] >= 0,\n",
    "    x[2] >= 0,\n",
    "]\n",
    "\n",
    "problem = cp.Problem(obj, con)\n",
    "problem.solve(solver=cp.CPLEX)\n",
    "print('最优解为：', x.value)\n",
    "print('最优值为：', problem.value)"
   ],
   "metadata": {
    "collapsed": false,
    "ExecuteTime": {
     "end_time": "2024-07-28T14:31:23.981278500Z",
     "start_time": "2024-07-28T14:31:22.903462700Z"
    }
   }
  },
  {
   "cell_type": "markdown",
   "source": [
    "# 多目标线性规划"
   ],
   "metadata": {
    "collapsed": false
   }
  },
  {
   "cell_type": "markdown",
   "source": [
    "多目标线性规划一般可以使用对多个目标函数加权、绘画多维平面（多少个目标函数就多少维）判断，这些都是要主观的设置参数或选择\n",
    "\n",
    "绘画多维平面一般是对某个函数进行限制"
   ],
   "metadata": {
    "collapsed": false
   }
  },
  {
   "cell_type": "code",
   "execution_count": null,
   "outputs": [],
   "source": [
    "import numpy as np\n",
    "from scipy.optimize import linprog\n",
    "\n",
    "# 目标函数系数\n",
    "c1 = [-1, -2]  # 目标函数1的系数（希望最大化）\n",
    "c2 = [3, 2]  # 目标函数2的系数（希望最大化）\n",
    "\n",
    "A_ub = [[1, 2], [2, 1]]\n",
    "b_ub = [6, 6]\n",
    "bounds = [(0, None), (0, None)]\n",
    "# 优化目标函数1\n",
    "result1 = linprog(c1, A_ub=A_ub, b_ub=b_ub, bounds=bounds, method='highs')\n",
    "print(\"Optimal value for objective 1:\", -result1.fun)\n",
    "print(\"Optimal solution for objective 1:\", result1.x)\n",
    "\n",
    "# 优化目标函数2\n",
    "result2 = linprog(c2, A_ub=A_ub, b_ub=b_ub, bounds=bounds, method='highs')\n",
    "print(\"Optimal value for objective 2:\", result2.fun)\n",
    "print(\"Optimal solution for objective 2:\", result2.x)\n",
    "\n",
    "\n",
    "# 中间解的插值\n",
    "def interpolate(x1, x2, alpha):\n",
    "    return [alpha * x1[i] + (1 - alpha) * x2[i] for i in range(len(x1))]\n",
    "\n",
    "\n",
    "alpha_values = np.linspace(0, 1, num=5)\n",
    "for alpha in alpha_values:\n",
    "    x_interpolated = interpolate(result1.x, result2.x, alpha)\n",
    "    # 计算中间解的目标函数值\n",
    "    f1_value = -np.dot(c1, x_interpolated)\n",
    "    f2_value = np.dot(c2, x_interpolated)\n",
    "    print(f\"Interpolated solution with alpha={alpha}: {x_interpolated}, f1={f1_value}, f2={f2_value}\")"
   ],
   "metadata": {
    "collapsed": false
   }
  },
  {
   "cell_type": "markdown",
   "source": [
    "# 选址问题"
   ],
   "metadata": {
    "collapsed": false
   }
  },
  {
   "cell_type": "code",
   "execution_count": 2,
   "outputs": [
    {
     "name": "stdout",
     "output_type": "stream",
     "text": [
      "135.28154179067644\n",
      "[ 3.  5.  0.  7.  0.  1.  0.  0.  4.  0.  6. 10.]\n"
     ]
    }
   ],
   "source": [
    "from scipy.optimize import linprog\n",
    "\n",
    "A = [\n",
    "    [5, 1],\n",
    "    [2, 7],\n",
    "]\n",
    "P = [\n",
    "    [1.25, 1.25],\n",
    "    [8.75, 0.75],\n",
    "    [0.50, 4.75],\n",
    "    [5.75, 5.00],\n",
    "    [3.00, 6.50],\n",
    "    [7.25, 7.25],\n",
    "]\n",
    "V = [3, 5, 4, 7, 6, 11]\n",
    "\n",
    "\n",
    "def distance(x, y):\n",
    "    return ((x[0] - y[0]) ** 2 + (x[1] - y[1]) ** 2) ** 0.5\n",
    "\n",
    "\n",
    "# 两个临时矿场到工地的距离，也是最终结果的系数\n",
    "D = [distance(x, y) for x in A for y in P]\n",
    "\n",
    "# 料场小于20\n",
    "A_ub = [\n",
    "    [1, 1, 1, 1, 1, 1, 0, 0, 0, 0, 0, 0],\n",
    "    [0, 0, 0, 0, 0, 0, 1, 1, 1, 1, 1, 1],\n",
    "]\n",
    "b_ub = [20, 20]\n",
    "# 日需求量\n",
    "A_eq = [\n",
    "    [1, 0, 0, 0, 0, 0, 1, 0, 0, 0, 0, 0],\n",
    "    [0, 1, 0, 0, 0, 0, 0, 1, 0, 0, 0, 0],\n",
    "    [0, 0, 1, 0, 0, 0, 0, 0, 1, 0, 0, 0],\n",
    "    [0, 0, 0, 1, 0, 0, 0, 0, 0, 1, 0, 0],\n",
    "    [0, 0, 0, 0, 1, 0, 0, 0, 0, 0, 1, 0],\n",
    "    [0, 0, 0, 0, 0, 1, 0, 0, 0, 0, 0, 1],\n",
    "]\n",
    "b_eq = [3, 5, 4, 7, 6, 11]\n",
    "\n",
    "bound = [\n",
    "    (0, None), (0, None), (0, None), (0, None), (0, None), (0, None),\n",
    "    (0, None), (0, None), (0, None), (0, None), (0, None), (0, None),\n",
    "]\n",
    "\n",
    "result = linprog(D, A_ub=A_ub, b_ub=b_ub, A_eq=A_eq, b_eq=b_eq, bounds=bound, method='highs')\n",
    "print(result.fun)\n",
    "print(result.x)"
   ],
   "metadata": {
    "collapsed": false,
    "ExecuteTime": {
     "end_time": "2024-07-28T22:16:24.525506Z",
     "start_time": "2024-07-28T22:16:23.846693200Z"
    }
   }
  }
 ],
 "metadata": {
  "kernelspec": {
   "display_name": "Python 3",
   "language": "python",
   "name": "python3"
  },
  "language_info": {
   "codemirror_mode": {
    "name": "ipython",
    "version": 2
   },
   "file_extension": ".py",
   "mimetype": "text/x-python",
   "name": "python",
   "nbconvert_exporter": "python",
   "pygments_lexer": "ipython2",
   "version": "2.7.6"
  }
 },
 "nbformat": 4,
 "nbformat_minor": 0
}
