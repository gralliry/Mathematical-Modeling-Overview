{
 "cells": [
  {
   "cell_type": "markdown",
   "source": [
    "# 绘制 Dijkstra 最短路径"
   ],
   "metadata": {
    "collapsed": false
   }
  },
  {
   "cell_type": "code",
   "execution_count": 1,
   "outputs": [
    {
     "name": "stdout",
     "output_type": "stream",
     "text": [
      "从节点 1 到节点 5 的最短路径: [1, 2, 3, 4, 5]\n",
      "最短路径长度: 7\n"
     ]
    },
    {
     "name": "stderr",
     "output_type": "stream",
     "text": [
      "D:\\Code\\Python\\MCM\\venv\\lib\\site-packages\\IPython\\core\\pylabtools.py:170: UserWarning: Glyph 26368 (\\N{CJK UNIFIED IDEOGRAPH-6700}) missing from font(s) DejaVu Sans.\n",
      "  fig.canvas.print_figure(bytes_io, **kw)\n",
      "D:\\Code\\Python\\MCM\\venv\\lib\\site-packages\\IPython\\core\\pylabtools.py:170: UserWarning: Glyph 30701 (\\N{CJK UNIFIED IDEOGRAPH-77ED}) missing from font(s) DejaVu Sans.\n",
      "  fig.canvas.print_figure(bytes_io, **kw)\n",
      "D:\\Code\\Python\\MCM\\venv\\lib\\site-packages\\IPython\\core\\pylabtools.py:170: UserWarning: Glyph 36335 (\\N{CJK UNIFIED IDEOGRAPH-8DEF}) missing from font(s) DejaVu Sans.\n",
      "  fig.canvas.print_figure(bytes_io, **kw)\n",
      "D:\\Code\\Python\\MCM\\venv\\lib\\site-packages\\IPython\\core\\pylabtools.py:170: UserWarning: Glyph 24452 (\\N{CJK UNIFIED IDEOGRAPH-5F84}) missing from font(s) DejaVu Sans.\n",
      "  fig.canvas.print_figure(bytes_io, **kw)\n",
      "D:\\Code\\Python\\MCM\\venv\\lib\\site-packages\\IPython\\core\\pylabtools.py:170: UserWarning: Glyph 65288 (\\N{FULLWIDTH LEFT PARENTHESIS}) missing from font(s) DejaVu Sans.\n",
      "  fig.canvas.print_figure(bytes_io, **kw)\n",
      "D:\\Code\\Python\\MCM\\venv\\lib\\site-packages\\IPython\\core\\pylabtools.py:170: UserWarning: Glyph 20174 (\\N{CJK UNIFIED IDEOGRAPH-4ECE}) missing from font(s) DejaVu Sans.\n",
      "  fig.canvas.print_figure(bytes_io, **kw)\n",
      "D:\\Code\\Python\\MCM\\venv\\lib\\site-packages\\IPython\\core\\pylabtools.py:170: UserWarning: Glyph 21040 (\\N{CJK UNIFIED IDEOGRAPH-5230}) missing from font(s) DejaVu Sans.\n",
      "  fig.canvas.print_figure(bytes_io, **kw)\n",
      "D:\\Code\\Python\\MCM\\venv\\lib\\site-packages\\IPython\\core\\pylabtools.py:170: UserWarning: Glyph 65289 (\\N{FULLWIDTH RIGHT PARENTHESIS}) missing from font(s) DejaVu Sans.\n",
      "  fig.canvas.print_figure(bytes_io, **kw)\n"
     ]
    },
    {
     "data": {
      "text/plain": "<Figure size 640x480 with 1 Axes>",
      "image/png": "[encoded data removed]"
     },
     "metadata": {},
     "output_type": "display_data"
    }
   ],
   "source": [
    "import networkx as nx\n",
    "import matplotlib.pyplot as plt\n",
    "\n",
    "# 创建一个图\n",
    "G = nx.Graph()\n",
    "\n",
    "# 添加节点和带权边 # 这个是有向图\n",
    "G.add_weighted_edges_from([\n",
    "    (1, 2, 1),\n",
    "    (1, 3, 4),\n",
    "    (2, 3, 2),\n",
    "    (2, 4, 5),\n",
    "    (3, 4, 1),\n",
    "    (3, 5, 8),\n",
    "    (4, 5, 3)\n",
    "])\n",
    "\n",
    "# 计算 Dijkstra 最短路径\n",
    "start_node = 1\n",
    "end_node = 5\n",
    "shortest_path = nx.dijkstra_path(G, source=start_node, target=end_node, weight='weight')\n",
    "shortest_path_length = nx.dijkstra_path_length(G, source=start_node, target=end_node, weight='weight')\n",
    "\n",
    "print(f\"从节点 {start_node} 到节点 {end_node} 的最短路径: {shortest_path}\")\n",
    "print(f\"最短路径长度: {shortest_path_length}\")\n",
    "\n",
    "# 绘制图形\n",
    "pos = nx.spring_layout(G)  # 节点布局\n",
    "\n",
    "# 绘制所有边\n",
    "nx.draw_networkx_edges(G, pos, width=1.0, alpha=0.5)\n",
    "\n",
    "# 绘制最短路径边\n",
    "path_edges = list(zip(shortest_path, shortest_path[1:]))\n",
    "nx.draw_networkx_edges(G, pos, edgelist=path_edges, edge_color='r', width=2.0, alpha=0.7)\n",
    "\n",
    "# 绘制节点\n",
    "nx.draw_networkx_nodes(G, pos, node_size=500, node_color='lightblue')\n",
    "\n",
    "# 绘制标签\n",
    "nx.draw_networkx_labels(G, pos, font_size=16, font_family='sans-serif')\n",
    "\n",
    "# 绘制权重\n",
    "edge_labels = nx.get_edge_attributes(G, 'weight')\n",
    "nx.draw_networkx_edge_labels(G, pos, edge_labels=edge_labels)\n",
    "\n",
    "# 显示图形\n",
    "plt.title(f\"Dijkstra 最短路径（从 {start_node} 到 {end_node}）\")\n",
    "plt.show()\n"
   ],
   "metadata": {
    "collapsed": false,
    "ExecuteTime": {
     "end_time": "2024-07-31T10:18:58.589459600Z",
     "start_time": "2024-07-31T10:18:57.760700300Z"
    }
   }
  },
  {
   "cell_type": "markdown",
   "source": [
    "# Floyd-Warshall 算法计算最短路径"
   ],
   "metadata": {
    "collapsed": false
   }
  },
  {
   "cell_type": "code",
   "execution_count": 2,
   "outputs": [
    {
     "name": "stdout",
     "output_type": "stream",
     "text": [
      "最短路径矩阵:\n",
      "[[ 0.  2.  3.  6. 11. 11.]\n",
      " [inf  0.  1.  4.  9.  9.]\n",
      " [inf inf  0.  3.  8.  8.]\n",
      " [inf inf inf  0.  5. 12.]\n",
      " [inf inf inf inf  0.  7.]\n",
      " [inf inf inf inf inf  0.]]\n"
     ]
    }
   ],
   "source": [
    "import numpy as np\n",
    "\n",
    "def floyd_warshall(adj_matrix):\n",
    "    num_nodes = adj_matrix.shape[0]\n",
    "    # 初始化距离矩阵\n",
    "    dist = np.copy(adj_matrix)\n",
    "\n",
    "    # Floyd-Warshall 算法\n",
    "    for k in range(num_nodes):\n",
    "        for i in range(num_nodes):\n",
    "            for j in range(num_nodes):\n",
    "                if dist[i, k] < np.inf and dist[k, j] < np.inf:\n",
    "                    dist[i, j] = min(dist[i, j], dist[i, k] + dist[k, j])\n",
    "\n",
    "    return dist\n",
    "\n",
    "# 创建邻接矩阵\n",
    "adj_matrix = np.array([\n",
    "    [0, 2, 4, np.inf, np.inf, np.inf],\n",
    "    [np.inf, 0, 1, 6, np.inf, np.inf],\n",
    "    [np.inf, np.inf, 0, 3, np.inf, 8],\n",
    "    [np.inf, np.inf, np.inf, 0, 5, np.inf],\n",
    "    [np.inf, np.inf, np.inf, np.inf, 0, 7],\n",
    "    [np.inf, np.inf, np.inf, np.inf, np.inf, 0]\n",
    "])\n",
    "\n",
    "# 计算最短路径\n",
    "shortest_paths = floyd_warshall(adj_matrix)\n",
    "\n",
    "# 打印结果\n",
    "print(\"最短路径矩阵:\")\n",
    "print(shortest_paths)\n"
   ],
   "metadata": {
    "collapsed": false,
    "ExecuteTime": {
     "end_time": "2024-07-31T10:23:49.630605Z",
     "start_time": "2024-07-31T10:23:49.629604900Z"
    }
   }
  },
  {
   "cell_type": "markdown",
   "source": [
    "# Bellman-Ford 算法计算单源最短路径"
   ],
   "metadata": {
    "collapsed": false
   }
  },
  {
   "cell_type": "code",
   "execution_count": 3,
   "outputs": [
    {
     "name": "stdout",
     "output_type": "stream",
     "text": [
      "从节点 0 到所有节点的最短路径:\n",
      "到节点 0: 0.0\n",
      "到节点 1: 1.0\n",
      "到节点 2: 3.0\n",
      "到节点 3: 6.0\n",
      "到节点 4: 11.0\n"
     ]
    }
   ],
   "source": [
    "import numpy as np\n",
    "\n",
    "def bellman_ford(adj_matrix, source):\n",
    "    num_nodes = adj_matrix.shape[0]\n",
    "    # 初始化距离\n",
    "    dist = np.full(num_nodes, np.inf)\n",
    "    dist[source] = 0\n",
    "\n",
    "    # 松弛操作\n",
    "    for _ in range(num_nodes - 1):\n",
    "        for u in range(num_nodes):\n",
    "            for v in range(num_nodes):\n",
    "                if adj_matrix[u, v] < np.inf:\n",
    "                    if dist[u] + adj_matrix[u, v] < dist[v]:\n",
    "                        dist[v] = dist[u] + adj_matrix[u, v]\n",
    "\n",
    "    # 负权重环检测\n",
    "    for u in range(num_nodes):\n",
    "        for v in range(num_nodes):\n",
    "            if adj_matrix[u, v] < np.inf:\n",
    "                if dist[u] + adj_matrix[u, v] < dist[v]:\n",
    "                    print(\"图中存在负权重环路\")\n",
    "                    return None\n",
    "\n",
    "    return dist\n",
    "\n",
    "# 创建邻接矩阵\n",
    "adj_matrix = np.array([\n",
    "    [0, 1, 4, np.inf, np.inf],\n",
    "    [np.inf, 0, 2, 6, np.inf],\n",
    "    [np.inf, np.inf, 0, 3, np.inf],\n",
    "    [np.inf, np.inf, np.inf, 0, 5],\n",
    "    [np.inf, np.inf, np.inf, np.inf, 0]\n",
    "])\n",
    "\n",
    "# 计算从源节点 0 到所有其他节点的最短路径\n",
    "source_node = 0\n",
    "shortest_paths = bellman_ford(adj_matrix, source_node)\n",
    "\n",
    "if shortest_paths is not None:\n",
    "    print(f\"从节点 {source_node} 到所有节点的最短路径:\")\n",
    "    for i, dist in enumerate(shortest_paths):\n",
    "        print(f\"到节点 {i}: {dist}\")\n"
   ],
   "metadata": {
    "collapsed": false,
    "ExecuteTime": {
     "end_time": "2024-07-31T10:24:46.664272400Z",
     "start_time": "2024-07-31T10:24:46.642578600Z"
    }
   }
  }
 ],
 "metadata": {
  "kernelspec": {
   "display_name": "Python 3",
   "language": "python",
   "name": "python3"
  },
  "language_info": {
   "codemirror_mode": {
    "name": "ipython",
    "version": 2
   },
   "file_extension": ".py",
   "mimetype": "text/x-python",
   "name": "python",
   "nbconvert_exporter": "python",
   "pygments_lexer": "ipython2",
   "version": "2.7.6"
  }
 },
 "nbformat": 4,
 "nbformat_minor": 0
}
