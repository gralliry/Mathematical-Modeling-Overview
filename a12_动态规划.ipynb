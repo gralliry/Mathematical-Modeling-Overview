{
 "cells": [
  {
   "cell_type": "markdown",
   "source": [
    "# 动态规划"
   ],
   "metadata": {
    "collapsed": false
   }
  },
  {
   "cell_type": "markdown",
   "source": [
    "你有三种硬币，分别面值2元、5元和7元，每种硬币都有足够多，买一本书需要27元，如何用最少\n",
    "的硬币组合起来正好付清，不需要对方找钱"
   ],
   "metadata": {
    "collapsed": false
   }
  },
  {
   "cell_type": "code",
   "execution_count": null,
   "outputs": [],
   "source": [
    "def f(x):\n",
    "    if x == 0:\n",
    "        return 0\n",
    "    res = float('inf')\n",
    "    if x >= 2:\n",
    "        res = min(f(x - 2) + 1, res)\n",
    "    if x >= 5:\n",
    "        res = min(f(x - 5) + 1, res)\n",
    "    if x >= 7:\n",
    "        res = min(f(x - 7) + 1, res)\n",
    "    return res\n",
    "\n",
    "print(f(27))"
   ],
   "metadata": {
    "collapsed": false
   }
  },
  {
   "cell_type": "markdown",
   "source": [
    "# 01背包问题"
   ],
   "metadata": {
    "collapsed": false
   }
  },
  {
   "cell_type": "code",
   "execution_count": 1,
   "outputs": [
    {
     "name": "stdout",
     "output_type": "stream",
     "text": [
      "22\n"
     ]
    }
   ],
   "source": [
    "def knapsack01(w, v, C):\n",
    "    assert (len(w) == len(v) and C >= 0)\n",
    "    n = len(w)\n",
    "    if n == 0 or C == 0:\n",
    "        return 0\n",
    "    memo = [-1 for i in range(C + 1)]\n",
    "    for j in range(0, C + 1):\n",
    "        memo[j] = v[0] if j >= w[0] else 0\n",
    "    for i in range(1, n):\n",
    "        for j in range(C, w[i] - 1, -1):\n",
    "            memo[j] = max(memo[j], v[i] + memo[j - w[i]])\n",
    "    return memo[C]\n",
    "\n",
    "w = [1, 2, 3]\n",
    "v = [6, 10, 12]\n",
    "C = 5\n",
    "print(knapsack01(w, v, C))"
   ],
   "metadata": {
    "collapsed": false,
    "ExecuteTime": {
     "end_time": "2024-07-29T17:48:21.507192300Z",
     "start_time": "2024-07-29T17:48:21.500192800Z"
    }
   }
  }
 ],
 "metadata": {
  "kernelspec": {
   "display_name": "Python 3",
   "language": "python",
   "name": "python3"
  },
  "language_info": {
   "codemirror_mode": {
    "name": "ipython",
    "version": 2
   },
   "file_extension": ".py",
   "mimetype": "text/x-python",
   "name": "python",
   "nbconvert_exporter": "python",
   "pygments_lexer": "ipython2",
   "version": "2.7.6"
  }
 },
 "nbformat": 4,
 "nbformat_minor": 0
}
