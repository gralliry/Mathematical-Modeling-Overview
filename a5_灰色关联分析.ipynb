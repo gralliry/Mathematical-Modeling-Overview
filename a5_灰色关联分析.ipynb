{
 "cells": [
  {
   "cell_type": "markdown",
   "source": [
    "# 实际母序列存在"
   ],
   "metadata": {
    "collapsed": false
   }
  },
  {
   "cell_type": "code",
   "execution_count": 6,
   "outputs": [
    {
     "name": "stdout",
     "output_type": "stream",
     "text": [
      "预处理后的矩阵为：\n",
      "[[0.7457627  0.6315789  0.5714286 ]\n",
      " [0.88135594 1.         1.2571429 ]\n",
      " [1.0169492  1.0526316  1.0285715 ]\n",
      " [1.3559322  1.3157895  1.1428572 ]]\n",
      "子序列中各个指标的灰色关联度分别为：\n",
      "[0.76966584 0.60058475]\n"
     ]
    }
   ],
   "source": [
    "import numpy as np\n",
    "\n",
    "from normalizate import normalize_mean\n",
    "\n",
    "from gray_relational import gray_relational_weight\n",
    "\n",
    "A = np.array([\n",
    "    [55, 24, 10],\n",
    "    [65, 38, 22],\n",
    "    [75, 40, 18],\n",
    "    [100, 50, 20]\n",
    "])\n",
    "\n",
    "# 预处理后的矩阵\n",
    "A_norm = normalize_mean(A)\n",
    "\n",
    "print('预处理后的矩阵为：')\n",
    "print(A_norm)\n",
    "\n",
    "# 母序列\n",
    "Y = A_norm[:, 0]\n",
    "\n",
    "# 子序列\n",
    "X = A_norm[:, 1:]\n",
    "\n",
    "# 注意这里的灰色关联度没有总和归一化\n",
    "iden = gray_relational_weight(Y, X)\n",
    "print('子序列中各个指标的灰色关联度分别为：')\n",
    "print(iden)"
   ],
   "metadata": {
    "collapsed": false,
    "ExecuteTime": {
     "end_time": "2024-07-28T05:24:43.045623600Z",
     "start_time": "2024-07-28T05:24:43.042623700Z"
    }
   }
  },
  {
   "cell_type": "markdown",
   "source": [
    "# 虚拟母序列"
   ],
   "metadata": {
    "collapsed": false
   }
  },
  {
   "cell_type": "code",
   "execution_count": 2,
   "outputs": [
    {
     "name": "stdout",
     "output_type": "stream",
     "text": [
      "预处理后的矩阵为：\n",
      "[[0.7457627  0.6315789  0.5714286 ]\n",
      " [0.88135594 1.         1.2571429 ]\n",
      " [1.0169492  1.0526316  1.0285715 ]\n",
      " [1.3559322  1.3157895  1.1428572 ]]\n",
      "[[0.7457627  0.6315789  0.5714286 ]\n",
      " [0.88135594 1.         1.2571429 ]\n",
      " [1.0169492  1.0526316  1.0285715 ]\n",
      " [1.3559322  1.3157895  1.1428572 ]]\n",
      "归一化后的得分及其索引（降序）：\n",
      "[0.31858447 0.26016277 0.2580436  0.16320921]\n",
      "[3 1 2 0]\n"
     ]
    }
   ],
   "source": [
    "import numpy as np  # 导入numpy库，用于进行科学计算\n",
    "\n",
    "from normalizate import normalize_sum, normalize_mean\n",
    "\n",
    "from gray_relational import gray_relational_weight\n",
    "\n",
    "X = np.array([\n",
    "    [55, 24, 10],\n",
    "    [65, 38, 22],\n",
    "    [75, 40, 18],\n",
    "    [100, 50, 20]\n",
    "])\n",
    "# 这里还没有进行正向化\n",
    "...\n",
    "# 对正向化后的矩阵进行预处理\n",
    "Z = normalize_mean(X)\n",
    "\n",
    "print('预处理后的矩阵为：')\n",
    "print(Z)\n",
    "\n",
    "# 构造母序列和子序列\n",
    "# 母序列为虚拟的，用每一行的最大值构成的列向量表示母序列\n",
    "Y = np.max(Z, axis=1)\n",
    "X = Z  # 子序列就是预处理后的数据矩阵\n",
    "\n",
    "# 计算子序列中各个指标与母序列的关联系数\n",
    "weight = gray_relational_weight(Y, X)\n",
    "weight = normalize_sum(weight)\n",
    "\n",
    "# 未归一化的得分\n",
    "score = np.sum(X * weight, axis=1)\n",
    "# 归一化后的得分\n",
    "stand_S = normalize_sum(score)\n",
    "print(X)\n",
    "\n",
    "sorted_S = np.sort(stand_S)[::-1]  # 进行降序排序\n",
    "index = np.argsort(stand_S)[::-1]  # 排序后的索引\n",
    "\n",
    "print('归一化后的得分及其索引（降序）：')\n",
    "print(sorted_S)\n",
    "print(index)"
   ],
   "metadata": {
    "collapsed": false,
    "ExecuteTime": {
     "end_time": "2024-07-28T05:24:34.723010700Z",
     "start_time": "2024-07-28T05:24:34.669030Z"
    }
   }
  }
 ],
 "metadata": {
  "kernelspec": {
   "display_name": "Python 3",
   "language": "python",
   "name": "python3"
  },
  "language_info": {
   "codemirror_mode": {
    "name": "ipython",
    "version": 2
   },
   "file_extension": ".py",
   "mimetype": "text/x-python",
   "name": "python",
   "nbconvert_exporter": "python",
   "pygments_lexer": "ipython2",
   "version": "2.7.6"
  }
 },
 "nbformat": 4,
 "nbformat_minor": 0
}
