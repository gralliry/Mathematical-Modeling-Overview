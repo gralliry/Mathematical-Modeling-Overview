{
 "cells": [
  {
   "cell_type": "markdown",
   "source": [
    "# 最大最小化规划\n",
    "\n",
    "旨在找出最大值后在最大值中找最小值 或 在最小值中找最大值"
   ],
   "metadata": {
    "collapsed": false
   }
  },
  {
   "cell_type": "code",
   "execution_count": 16,
   "outputs": [
    {
     "name": "stdout",
     "output_type": "stream",
     "text": [
      "最优解:\n",
      "x: [[7.4999999297], [9.0000000703]]\n",
      "目标函数值: 13.5\n"
     ]
    }
   ],
   "source": [
    "# 求一个坐标，要求到最远点的距离最少\n",
    "# 该左边被限制在一个区域\n",
    "from gekko import Gekko\n",
    "\n",
    "m = Gekko(remote=False)\n",
    "m.options.SOLVER = 1  # 设置求解器，可以根据具体情况调整\n",
    "\n",
    "X = [m.Var(5, lb=3, ub=8), m.Var(6, lb=4, ub=10)]\n",
    "# 城市坐标\n",
    "M = [\n",
    "    [1, 2], [4, 10], [3, 8], [5, 18], [9, 1],\n",
    "    [12, 4], [6, 5], [20, 10], [17, 8], [8, 9],\n",
    "]\n",
    "\n",
    "\n",
    "def distance(x, y):\n",
    "    return m.abs(x[0] - y[0]) + m.abs(x[1] - y[1])\n",
    "\n",
    "\n",
    "def objective():\n",
    "    va = m.Var(0, integer=True)\n",
    "    for p in M:\n",
    "        va = m.max2(distance(X, p), va)\n",
    "    return va\n",
    "\n",
    "\n",
    "m.Minimize(objective())\n",
    "\n",
    "# 求解优化问题\n",
    "m.solve(disp=False)\n",
    "\n",
    "# 打印结果\n",
    "print('最优解:')\n",
    "print('x:', X)\n",
    "print('目标函数值:', m.options.objfcnval)"
   ],
   "metadata": {
    "collapsed": false,
    "ExecuteTime": {
     "end_time": "2024-07-28T21:43:51.677623600Z",
     "start_time": "2024-07-28T21:43:51.603778300Z"
    }
   }
  }
 ],
 "metadata": {
  "kernelspec": {
   "display_name": "Python 3",
   "language": "python",
   "name": "python3"
  },
  "language_info": {
   "codemirror_mode": {
    "name": "ipython",
    "version": 2
   },
   "file_extension": ".py",
   "mimetype": "text/x-python",
   "name": "python",
   "nbconvert_exporter": "python",
   "pygments_lexer": "ipython2",
   "version": "2.7.6"
  }
 },
 "nbformat": 4,
 "nbformat_minor": 0
}
