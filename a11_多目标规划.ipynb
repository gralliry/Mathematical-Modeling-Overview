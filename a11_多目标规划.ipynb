{
 "cells": [
  {
   "cell_type": "markdown",
   "source": [
    "# 多目标规划\n",
    "\n",
    "最优解、有效解、满意解\n",
    "\n",
    "在线性规划中的多目标线性规划是通过限制一个目标函数来控制另外一个\n",
    "\n",
    "### 方法\n",
    "- 线性加权：对每个目标函数进行加权求和，主观性强\n",
    "- epsilon约束法，选择一个主要关注的参考目标，将其他目标函数放在约束条件中\n",
    "- 理想点法，以每个单目标最优值为该目标的理想值，使每个目标函数值与理想值的差的加权平方和最小\n",
    "- 优先级法，优先级法，优先满足优先度高的目标函数"
   ],
   "metadata": {
    "collapsed": false
   }
  },
  {
   "cell_type": "markdown",
   "source": [
    "某化工厂今年拟生产两种新产品A和B，其生产费用分别为2万元/吨和5万元/吨。\n",
    "这两种产品均将造成环境污染，每生产一吨A产品会产生0.4吨的污染，每生产一吨B产品会产生0.3吨的污染。\n",
    "由于条件限制，工厂生产产品A和B的最大生产能力各为每月5吨和6吨，而市场需要这两种产品的总量每月不少于7吨。\n",
    "该工厂决策认为，这两个目标中环境污染应该优先考虑，且根据经验生产费用的参考值为30万元，污染量参考值为2吨。\n",
    "试问工厂如何安排生产计划，在满足市场需要的前提下，使设备的花费和产生的污染均达到最小。"
   ],
   "metadata": {
    "collapsed": false
   }
  },
  {
   "cell_type": "code",
   "execution_count": 2,
   "outputs": [
    {
     "name": "stdout",
     "output_type": "stream",
     "text": [
      "最优解:\n",
      "x: [5.0] [2.0000002432]\n",
      "目标函数值: 1.0466667048\n"
     ]
    }
   ],
   "source": [
    "from gekko import Gekko\n",
    "\n",
    "m = Gekko(remote=False)\n",
    "\n",
    "x1 = m.Var(0, lb=0, ub=5)\n",
    "x2 = m.Var(0, lb=0, ub=6)\n",
    "\n",
    "m.Equations([\n",
    "    x1 + x2 >= 7,\n",
    "])\n",
    "\n",
    "# 为了时量纲相同，对应指标要除以对应参考值\n",
    "# 因为是优先考虑环境污染，所以权重为0.4和0.6\n",
    "m.Minimize(\n",
    "    0.4 * ((2 * x1 + 5 * x2) / 30) + 0.6 * ((0.4 * x1 + 0.3 * x2) / 2)\n",
    ")\n",
    "\n",
    "m.solve(disp=False)\n",
    "\n",
    "print('最优解:')\n",
    "print('x:', x1.value, x2.value)\n",
    "print('目标函数值:', m.options.objfcnval)"
   ],
   "metadata": {
    "collapsed": false,
    "ExecuteTime": {
     "end_time": "2024-07-29T05:33:47.946744700Z",
     "start_time": "2024-07-29T05:33:47.906987700Z"
    }
   }
  }
 ],
 "metadata": {
  "kernelspec": {
   "display_name": "Python 3",
   "language": "python",
   "name": "python3"
  },
  "language_info": {
   "codemirror_mode": {
    "name": "ipython",
    "version": 2
   },
   "file_extension": ".py",
   "mimetype": "text/x-python",
   "name": "python",
   "nbconvert_exporter": "python",
   "pygments_lexer": "ipython2",
   "version": "2.7.6"
  }
 },
 "nbformat": 4,
 "nbformat_minor": 0
}
