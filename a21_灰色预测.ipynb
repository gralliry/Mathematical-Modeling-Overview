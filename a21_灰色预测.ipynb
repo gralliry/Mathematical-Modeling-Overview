{
 "cells": [
  {
   "cell_type": "markdown",
   "source": [
    "# GM(1, 1)"
   ],
   "metadata": {
    "collapsed": false
   }
  },
  {
   "cell_type": "code",
   "execution_count": 10,
   "outputs": [
    {
     "name": "stdout",
     "output_type": "stream",
     "text": [
      "B [[ -5.    1. ]\n",
      " [ -9.5   1. ]\n",
      " [-15.    1. ]\n",
      " [-21.5   1. ]\n",
      " [-29.    1. ]\n",
      " [-38.    1. ]]\n",
      "alpha [[-0.17387524]\n",
      " [ 3.24712019]]\n",
      "a= -0.17387524451206277\n",
      "b= 3.2471201912627676\n",
      "预测数列为： [3, 4, 5, 6, 7, 8, 10]\n"
     ]
    }
   ],
   "source": [
    "import numpy as np\n",
    "import math as mt\n",
    "\n",
    "X0 = [3, 4, 5, 6, 7, 8, 10]\n",
    "# 累加数列\n",
    "X1 = [X0[0]]\n",
    "add = X0[0] + X0[1]\n",
    "X1.append(add)\n",
    "i = 2\n",
    "while i < len(X0):\n",
    "    add = add + X0[i]\n",
    "    X1.append(add)\n",
    "    i += 1\n",
    "\n",
    "# 紧邻均值序列\n",
    "Z = []\n",
    "j = 1\n",
    "while j < len(X1):\n",
    "    num = (X1[j] + X1[j - 1]) / 2\n",
    "    Z.append(num)\n",
    "    j = j + 1\n",
    "\n",
    "# 最小二乘法计算\n",
    "Y = []\n",
    "x_i = 0\n",
    "while x_i < len(X0) - 1:\n",
    "    x_i += 1\n",
    "    Y.append(X0[x_i])\n",
    "Y = np.asmatrix(Y)\n",
    "Y = Y.reshape(-1, 1)\n",
    "B = []\n",
    "b = 0\n",
    "while b < len(Z):\n",
    "    B.append(-Z[b])\n",
    "    b += 1\n",
    "B = np.asmatrix(B)\n",
    "B = B.reshape(-1, 1)\n",
    "c = np.ones((len(B), 1))\n",
    "B = np.hstack((B, c))\n",
    "print(\"B\", B)\n",
    "\n",
    "# 求出参数\n",
    "alpha = np.linalg.inv(B.T.dot(B)).dot(B.T).dot(Y)\n",
    "a = alpha[0, 0]\n",
    "b = alpha[1, 0]\n",
    "print('alpha', alpha)\n",
    "print(\"a=\", a)\n",
    "print(\"b=\", b)\n",
    "\n",
    "# 生成预测模型\n",
    "GM = []\n",
    "GM.append(X0[0])\n",
    "did = b / a\n",
    "for k in range(1, len(X0)):\n",
    "    GM.append((X0[0] - did) * mt.exp(-a * k) + did)\n",
    "\n",
    "# 做差得到预测序列\n",
    "G = []\n",
    "G.append(X0[0])\n",
    "for g in range(1, len(X0)):\n",
    "    G.append(round(GM[g] - GM[g - 1]))\n",
    "print(\"预测数列为：\", G)\n"
   ],
   "metadata": {
    "collapsed": false,
    "ExecuteTime": {
     "end_time": "2024-08-06T13:22:39.097224900Z",
     "start_time": "2024-08-06T13:22:39.081982900Z"
    }
   }
  },
  {
   "cell_type": "markdown",
   "source": [
    "# 光滑比检验"
   ],
   "metadata": {
    "collapsed": false
   }
  },
  {
   "cell_type": "code",
   "execution_count": 4,
   "outputs": [
    {
     "name": "stdout",
     "output_type": "stream",
     "text": [
      "rho: [np.float64(inf), np.float64(2.0), np.float64(1.0), np.float64(0.6666666666666666), np.float64(0.5), np.float64(0.4)]\n",
      "rho_ratio: [np.float64(0.0), np.float64(0.5), np.float64(0.6666666666666666), np.float64(0.75), np.float64(0.8)]\n",
      "该数据未通过光滑校验\n"
     ]
    },
    {
     "name": "stderr",
     "output_type": "stream",
     "text": [
      "C:\\Users\\aiccy\\AppData\\Local\\Temp\\ipykernel_30680\\2485587703.py:5: RuntimeWarning: divide by zero encountered in scalar divide\n",
      "  rho = [X0[i] / X1[i - 1] for i in range(1, len(X0))]\n"
     ]
    }
   ],
   "source": [
    "import numpy as np\n",
    "\n",
    "X0 = np.array([0, 1, 2, 3, 4, 5, 6])\n",
    "X1 = X0.cumsum()\n",
    "rho = [X0[i] / X1[i - 1] for i in range(1, len(X0))]\n",
    "rho_ratio = [rho[i + 1] / rho[i] for i in range(len(rho) - 1)]\n",
    "print(\"rho:\", rho)\n",
    "print(\"rho_ratio:\", rho_ratio)\n",
    "flag = True\n",
    "for i in range(1, len(rho) - 1):\n",
    "    if rho[i] > 0.5 or rho[i + 1] / rho[i] >= 1:\n",
    "        flag = False\n",
    "if rho[-1] > 0.5:\n",
    "    flag = False\n",
    "if flag:\n",
    "    print(\"数据通过光滑校验\")\n",
    "else:\n",
    "    print(\"该数据未通过光滑校验\")\n"
   ],
   "metadata": {
    "collapsed": false,
    "ExecuteTime": {
     "end_time": "2024-08-06T13:16:59.706691300Z",
     "start_time": "2024-08-06T13:16:59.658152500Z"
    }
   }
  },
  {
   "cell_type": "markdown",
   "source": [
    "# 级比检验"
   ],
   "metadata": {
    "collapsed": false
   }
  },
  {
   "cell_type": "code",
   "execution_count": null,
   "outputs": [],
   "source": [
    "import math as mt\n",
    "\n",
    "X0 = ['数据']\n",
    "for i in range(len(X0) - 1):\n",
    "    l = X0[i] / X0[i + 1]\n",
    "    if l <= mt.exp(-2 / (len(X0) + 1)) or l >= mt.exp(2 / (len(X0) + 1)):\n",
    "        break\n",
    "    else:\n",
    "        pass\n",
    "if i == len(X0) - 2 and l > mt.exp(-2 / (len(X0) + 1)) and l < mt.exp(2 / (len(X0) + 1)):\n",
    "    print('级比检验通过')\n",
    "else:\n",
    "    print('级比检验不通过')\n"
   ],
   "metadata": {
    "collapsed": false
   }
  },
  {
   "cell_type": "markdown",
   "source": [
    "# 级比检验不通过处理"
   ],
   "metadata": {
    "collapsed": false
   }
  },
  {
   "cell_type": "code",
   "execution_count": 5,
   "outputs": [
    {
     "name": "stdout",
     "output_type": "stream",
     "text": [
      "新的原始数列为： [126213, 134557, 135305, 130678, 125408, 141167, 142790, 151498, 171077, 199529, 211292, 238288]\n",
      "c的值为： 37315\n"
     ]
    }
   ],
   "source": [
    "import math\n",
    "\n",
    "X0 = [88898, 97242, 97990, 93363, 88093, 103852, 105475, 114183, 133762, 162214, 173977, 200973]\n",
    "j = 1\n",
    "while True:\n",
    "    YO = [k + j for k in X0]\n",
    "    j += 1\n",
    "    for m in range(len(YO) - 1):\n",
    "        l = YO[m] / YO[m + 1]\n",
    "        if math.exp(-2 / (len(X0) + 1)) < l < math.exp(2 / (len(X0) + 1)):\n",
    "            b = True\n",
    "        else:\n",
    "            b = False\n",
    "            break\n",
    "    if b:\n",
    "        print(\"新的原始数列为：\", YO)\n",
    "        c = j - 1\n",
    "        print(\"c的值为：\", c)\n",
    "        break\n",
    "    else:\n",
    "        continue\n"
   ],
   "metadata": {
    "collapsed": false,
    "ExecuteTime": {
     "end_time": "2024-08-06T13:18:40.999261600Z",
     "start_time": "2024-08-06T13:18:40.846001Z"
    }
   }
  }
 ],
 "metadata": {
  "kernelspec": {
   "display_name": "Python 3",
   "language": "python",
   "name": "python3"
  },
  "language_info": {
   "codemirror_mode": {
    "name": "ipython",
    "version": 2
   },
   "file_extension": ".py",
   "mimetype": "text/x-python",
   "name": "python",
   "nbconvert_exporter": "python",
   "pygments_lexer": "ipython2",
   "version": "2.7.6"
  }
 },
 "nbformat": 4,
 "nbformat_minor": 0
}
